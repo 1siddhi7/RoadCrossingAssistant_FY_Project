{
 "metadata": {
  "language_info": {
   "codemirror_mode": {
    "name": "ipython",
    "version": 3
   },
   "file_extension": ".py",
   "mimetype": "text/x-python",
   "name": "python",
   "nbconvert_exporter": "python",
   "pygments_lexer": "ipython3",
   "version": "3.7.3-final"
  },
  "orig_nbformat": 2,
  "kernelspec": {
   "name": "python37364bitroadcrossconda9373e858eb374c278c9e03a6646bb46c",
   "display_name": "Python 3.7.3 64-bit ('roadcross': conda)"
  }
 },
 "nbformat": 4,
 "nbformat_minor": 2,
 "cells": [
  {
   "cell_type": "code",
   "execution_count": 12,
   "metadata": {
    "tags": []
   },
   "outputs": [],
   "source": [
    "# import cv2\n",
    "\n",
    "# video_path = \"/home/yagnesh/Study/Machine Learning/ML projects/RoadCrossingAssistant_Arrays/videos_train/video1.MOV\"\n",
    "\n",
    "# cv2.namedWindow(\"Video\", cv2.WINDOW_NORMAL)\n",
    "# cv2.resizeWindow(\"Video\", height=760, width=1366) \n",
    "\n",
    "# scanned_video = cv2.VideoCapture(video_path)\n",
    "# frame_count = 1\n",
    "\n",
    "# if (scanned_video.isOpened()== False): \n",
    "#     print(\"Error opening video stream or file\")\n",
    "\n",
    "# while (scanned_video.isOpened()):\n",
    "\n",
    "#     ret, frame = scanned_video.read()\n",
    "\n",
    "#     if ret == True:\n",
    "#         cv2.imshow(\"Video\", frame)\n",
    "#         # frame_count = frame_count + 1\n",
    "#         if cv2.waitKey(1) & 0xFF == ord('q'):\n",
    "#             break\n",
    "#         if(cv2.waitKey(1) & 0xFF == ord('p')):\n",
    "#             cv2.waitKey(-1)\n",
    "#     else:\n",
    "#         break\n",
    "\n",
    "# scanned_video.release()\n",
    "# cv2.destroyAllWindows()"
   ]
  },
  {
   "cell_type": "code",
   "execution_count": 13,
   "metadata": {},
   "outputs": [
    {
     "output_type": "stream",
     "name": "stdout",
     "text": [
      "97\n",
      "121\n",
      "140\n",
      "155\n",
      "170\n",
      "186\n"
     ]
    }
   ],
   "source": [
    "import cv2\n",
    "\n",
    "\n",
    "video_path = \"/home/yagnesh/Study/Machine Learning/ML projects/RoadCrossingAssistant_Arrays/videos_train/video1.MOV\"\n",
    "\n",
    "cv2.namedWindow('frame', cv2.WINDOW_NORMAL)\n",
    "cv2.resizeWindow('frame', height=760, width=1366) \n",
    "\n",
    "font = cv2.FONT_HERSHEY_SIMPLEX\n",
    "fontScale = 1\n",
    "fontColor = (255,255,255)\n",
    "lineType = 2\n",
    "\n",
    "cap = cv2.VideoCapture(video_path)\n",
    "frame_count = 1\n",
    "\n",
    "while True:\n",
    "\n",
    "    ret, frame = cap.read()\n",
    "    key = cv2.waitKey(1) & 0xff\n",
    "\n",
    "    if not ret:\n",
    "        break\n",
    "\n",
    "    if key == ord('p'):\n",
    "\n",
    "        while True:\n",
    "\n",
    "            key2 = cv2.waitKey(1) or 0xff\n",
    "            cv2.putText(frame, \"Frame Number:\" + str(frame_count), org=(20,50), fontFace=font, fontScale=fontScale, color=fontColor, lineType=lineType, thickness=3)\n",
    "            cv2.imshow('frame', frame)\n",
    "\n",
    "            if key2 == ord('p'):\n",
    "                print(frame_count)\n",
    "                break\n",
    "\n",
    "    cv2.imshow('frame',frame)\n",
    "    cv2.putText(frame, \"Frame Number:\" + str(frame_count), org=(20,50), fontFace=font, fontScale=fontScale, color=fontColor, lineType=lineType, thickness=3)\n",
    "    frame_count = frame_count + 1\n",
    "\n",
    "    if key == 27: \n",
    "        break\n",
    "\n",
    "cap.release()\n",
    "cv2.destroyAllWindows()"
   ]
  },
  {
   "cell_type": "code",
   "execution_count": null,
   "metadata": {},
   "outputs": [],
   "source": []
  }
 ]
}