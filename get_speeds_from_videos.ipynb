{
 "metadata": {
  "language_info": {
   "codemirror_mode": {
    "name": "ipython",
    "version": 3
   },
   "file_extension": ".py",
   "mimetype": "text/x-python",
   "name": "python",
   "nbconvert_exporter": "python",
   "pygments_lexer": "ipython3",
   "version": "3.7.3-final"
  },
  "orig_nbformat": 2,
  "kernelspec": {
   "name": "python3",
   "display_name": "Python 3.7.3 64-bit ('roadcross': conda)",
   "metadata": {
    "interpreter": {
     "hash": "efbaad368bcd49cf5b8b1d4bc08527738fe3c05d47d6e3ea110540aa6c36949d"
    }
   }
  }
 },
 "nbformat": 4,
 "nbformat_minor": 2,
 "cells": [
  {
   "cell_type": "code",
   "execution_count": 15,
   "metadata": {},
   "outputs": [],
   "source": [
    "#importing required libraries\n",
    "import glob\n",
    "from imageai.Detection import VideoObjectDetection\n",
    "import natsort\n",
    "import numpy as np\n",
    "import os\n",
    "import sys\n",
    "import numpy as np\n",
    "import cv2\n",
    "import glob\n",
    "from imageai.Detection import VideoObjectDetection\n",
    "import os\n",
    "import sys\n",
    "from random import randint\n",
    "from math import ceil, nan, sqrt\n",
    "import natsort\n",
    "import pandas as pd\n",
    "import random\n",
    "from sklearn.svm import SVC \n",
    "from sklearn.metrics import classification_report, confusion_matrix \n",
    "from sklearn.model_selection import GridSearchCV\n",
    "import sys\n",
    "import cv2\n",
    "from random import randint"
   ]
  },
  {
   "cell_type": "code",
   "execution_count": 16,
   "metadata": {},
   "outputs": [],
   "source": [
    "trackerTypes = ['BOOSTING', 'MIL', 'KCF','TLD', 'MEDIANFLOW', 'GOTURN', 'MOSSE', 'CSRT']\n",
    "\n",
    "def createTrackerByName(trackerType):\n",
    "    \n",
    "  # Create a tracker based on tracker name\n",
    "    if trackerType == trackerTypes[0]:\n",
    "        tracker = cv2.TrackerBoosting_create()\n",
    "  \n",
    "    elif trackerType == trackerTypes[1]: \n",
    "        tracker = cv2.TrackerMIL_create()\n",
    "   \n",
    "    elif trackerType == trackerTypes[2]:\n",
    "        tracker = cv2.TrackerKCF_create()\n",
    "  \n",
    "    elif trackerType == trackerTypes[3]:\n",
    "        tracker = cv2.TrackerTLD_create()\n",
    "   \n",
    "    elif trackerType == trackerTypes[4]:\n",
    "        tracker = cv2.TrackerMedianFlow_create()\n",
    "    \n",
    "    elif trackerType == trackerTypes[5]:\n",
    "        tracker = cv2.TrackerGOTURN_create()\n",
    "            \n",
    "    elif trackerType == trackerTypes[6]:\n",
    "        tracker = cv2.TrackerMOSSE_create()\n",
    "        \n",
    "    elif trackerType == trackerTypes[7]:\n",
    "        tracker = cv2.TrackerCSRT_create()\n",
    "        \n",
    "    else:\n",
    "        tracker = None\n",
    "        print('Incorrect tracker name')\n",
    "        print('Available trackers are:')\n",
    "        for t in trackerTypes:\n",
    "            print(t)\n",
    "     \n",
    "    return tracker"
   ]
  },
  {
   "cell_type": "code",
   "execution_count": 17,
   "metadata": {},
   "outputs": [],
   "source": [
    "def get_speed_from_frame(video, trackerType, boxes_list, frame_no):\n",
    "\n",
    "    '''\n",
    "    Detects speed of each vehicle in the frame and returns and a list \n",
    "    containing these speeds\n",
    "\n",
    "    Parameters:\n",
    "    videoPath(string) : path of the video\n",
    "    trackerType(string) : the openCV tracker type to be used  \n",
    "    boxes_list(list) : list containing bounding boxes for all detected vehicles in the particular frame\n",
    "    frame_no : frame no of the video for which you require directions\n",
    "\n",
    "    '''\n",
    "    no_previous_frames = 5\n",
    "    frame_buffer = []\n",
    "    #cv2.namedWindow(video, cv2.WINDOW_NORMAL)\n",
    "    #cv2.resizeWindow(video, height=650, width=1156)\n",
    "    cap = cv2.VideoCapture(video)\n",
    "\n",
    "    for i in range(frame_no - no_previous_frames, frame_no + 1):\n",
    "\n",
    "        cap.set(1,i)\n",
    "        ret, frame = cap.read()\n",
    "        frame_buffer.append(frame)\n",
    "\n",
    "    multiTracker_back = cv2.MultiTracker_create()\n",
    "    #multiTracker = cv2.MultiTracker_create()\n",
    "    n = len(boxes_list)\n",
    "    speeds = [0]*n\n",
    "    x1 = [0]*n  #x coordinates of vehicles in frame_no\n",
    "    y1 = [0]*n #y coordinates of vehicles in frame_no\n",
    "    x2 = [0]*n  #x coordinates of vehicles in frame_no - no_previous_frames\n",
    "    y2 = [0]*n #y coordinates of vehicles in frame_no - no_previous_frames\n",
    "\n",
    "    frame = frame_buffer.pop()\n",
    "    for i in range(n):\n",
    "        box = boxes_list[i]\n",
    "        x1[i] = (box[0]+2*box[2])/2\n",
    "        y1[i] = (box[1]+2*box[3])/2\n",
    "        multiTracker_back.add(createTrackerByName(trackerType), frame, box)\n",
    "        #all the vehicles from boxes_list added in the traker instance\n",
    "        #applying vehicle tracking in backward direction\n",
    "    for j in range(no_previous_frames):\n",
    "        frame = frame_buffer.pop()\n",
    "        (success_back, boxes_back) = multiTracker_back.update(frame)\n",
    "\n",
    "    for i in range(n):\n",
    "        b = boxes_back[i]\n",
    "        x2[i] = (b[0]+2*b[2])/2\n",
    "        y2[i] = (b[1]+2*b[3])/2\n",
    "        x_d = x2[i] - x1[i]\n",
    "        y_d = y2[i] - y1[i]\n",
    "        dist = (x_d**2 + y_d**2)**0.5\n",
    "        speeds[i] = dist\n",
    "\n",
    "    return np.array(speeds)\n"
   ]
  },
  {
   "cell_type": "code",
   "execution_count": null,
   "metadata": {},
   "outputs": [],
   "source": [
    "def get_speed_from_video(video, boxes_list):\n",
    "\n",
    "    \n"
   ]
  },
  {
   "cell_type": "code",
   "execution_count": 18,
   "metadata": {},
   "outputs": [
    {
     "output_type": "stream",
     "name": "stdout",
     "text": [
      "[69.02897942 69.          2.23606798 22.56102835 15.03329638  7.\n 65.37583651  0.        ]\n"
     ]
    }
   ],
   "source": [
    "vname = \"C:/RoadCrossingAssistant/Data/Videos/video1.MOV\"\n",
    "fname = \"C:/RoadCrossingAssistant/Data/Arrays_RetinaNet/array1.npy\"\n",
    "\n",
    "bounding_boxes = np.load(fname, allow_pickle=True) #loading the numpy array containing all detected vehicles\n",
    "no_frames = bounding_boxes.shape[0]\n",
    "\n",
    "frame_no = 35\n",
    "temp = bounding_boxes[frame_no]\n",
    "boxes_list = [(b[0],b[1],b[2]-b[0],b[3]-b[1]) for b in temp]\n",
    "\n",
    "print(get_speed_from_frame(vname, \"KCF\", boxes_list, frame_no))\n"
   ]
  },
  {
   "cell_type": "code",
   "execution_count": 4,
   "metadata": {},
   "outputs": [],
   "source": [
    "vname = \"C:/RoadCrossingAssistant/Data/Videos/video1.MOV\"\n",
    "\n",
    "cv2.namedWindow('video', cv2.WINDOW_NORMAL)\n",
    "cv2.resizeWindow('video', height=650, width=1156)\n",
    "\n",
    "cap = cv2.VideoCapture(vname) #video_name is the video being called\n",
    "cap.set(1,25); # Where frame_no is the frame you want\n",
    "ret, frame = cap.read() # Read the frame\n",
    "cv2.imshow('video', frame) # show frame on window\n",
    "cv2.waitKey(0)\n",
    "cv2.destroyAllWindows()"
   ]
  },
  {
   "cell_type": "code",
   "execution_count": 6,
   "metadata": {},
   "outputs": [
    {
     "output_type": "stream",
     "name": "stdout",
     "text": [
      "5\n[1, 2, 3, 4]\n"
     ]
    }
   ],
   "source": [
    "l = [1,2,3,4,5]\n",
    "x = l.pop()\n",
    "print(x)\n",
    "print(l)"
   ]
  }
 ]
}