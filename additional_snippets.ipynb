{
 "metadata": {
  "language_info": {
   "codemirror_mode": {
    "name": "ipython",
    "version": 3
   },
   "file_extension": ".py",
   "mimetype": "text/x-python",
   "name": "python",
   "nbconvert_exporter": "python",
   "pygments_lexer": "ipython3",
   "version": "3.7.3-final"
  },
  "orig_nbformat": 2,
  "kernelspec": {
   "name": "python3",
   "display_name": "Python 3",
   "language": "python"
  }
 },
 "nbformat": 4,
 "nbformat_minor": 2,
 "cells": [
  {
   "source": [
    "few snippets to convert a csv file into a proper list"
   ],
   "cell_type": "markdown",
   "metadata": {}
  },
  {
   "cell_type": "code",
   "execution_count": 1,
   "metadata": {},
   "outputs": [
    {
     "output_type": "stream",
     "name": "stdout",
     "text": [
      "[['1', '5', '', '', '', '', '', ''], ['2', '3', '', '', '', '', '', ''], ['', '', '', '', '', '', '', ''], ['', '', '', '', '', '', '', ''], ['1', '2', '', '', '', '', '', ''], ['', '', '', '', '', '', '', ''], ['1', '4', '', '', '', '', '', ''], ['2', '4', '', '', '', '', '', ''], ['0', '3', '', '', '', '', '', ''], ['', '', '', '', '', '', '', ''], ['5', '6', '', '', '', '', '', ''], ['', '', '', '', '', '', '', ''], ['5', '6', '', '', '', '', '', ''], ['', '', '', '', '', '', '', ''], ['1', '3', '6', '7', '', '', '', ''], ['3', '5', '', '', '', '', '', ''], ['', '', '', '', '', '', '', ''], ['', '', '', '', '', '', '', ''], ['2', '4', '5', '7', '', '', '', ''], ['4', '6', '', '', '', '', '', ''], ['2', '6', '', '', '', '', '', ''], ['3', '4', '5', '6', '', '', '', ''], ['', '', '', '', '', '', '', ''], ['', '', '', '', '', '', '', ''], ['', '', '', '', '', '', '', ''], ['2', '4', '5', '6', '', '', '', ''], ['1', '2', '4', '5', '', '', '', ''], ['', '', '', '', '', '', '', ''], ['2', '6', '', '', '', '', '', ''], ['4', '7', '', '', '', '', '', ''], ['0', '1', '3', '4', '', '', '', ''], ['1', '4', '', '', '', '', '', ''], ['', '', '', '', '', '', '', ''], ['1', '3', '', '', '', '', '', ''], ['', '', '', '', '', '', '', ''], ['', '', '', '', '', '', '', ''], ['3', '4', '', '', '', '', '', ''], ['1', '4', '5', '6', '', '', '', ''], ['6', '7', '', '', '', '', '', ''], ['', '', '', '', '', '', '', ''], ['3', '5', '', '', '', '', '', ''], ['3', '5', '6', '8', '', '', '', ''], ['', '', '', '', '', '', '', ''], ['2', '3', '', '', '', '', '', ''], ['', '', '', '', '', '', '', ''], ['0', '3', '', '', '', '', '', ''], ['1', '5', '', '', '', '', '', ''], ['2', '3', '5', '6', '', '', '', ''], ['4', '6', '', '', '', '', '', ''], ['1', '4', '', '', '', '', '', ''], ['0', '4', '', '', '', '', '', ''], ['0', '3', '5', '6', '', '', '', ''], ['1', '4', '', '', '', '', '', ''], ['2', '5', '', '', '', '', '', ''], ['', '', '', '', '', '', '', ''], ['', '', '', '', '', '', '', ''], ['1', '6', '', '', '', '', '', ''], ['0', '1', '', '', '', '', '', ''], ['0', '2', '4', '6', '', '', '', ''], ['1', '4', '', '', '', '', '', ''], ['0', '1', '2', '4', '5', '6', '', ''], ['0', '6', '', '', '', '', '', ''], ['0', '2', '3', '5', '', '', '', ''], ['1', '2', '4', '5', '', '', '', ''], ['0', '3', '4', '6', '', '', '', ''], ['0', '4', '', '', '', '', '', ''], ['1', '2', '4', '5', '', '', '', ''], ['2', '4', '5', '6', '', '', '', ''], ['4', '6', '', '', '', '', '', ''], ['', '', '', '', '', '', '', ''], ['4', '6', '', '', '', '', '', ''], ['3', '4', '', '', '', '', '', ''], ['', '', '', '', '', '', '', ''], ['', '', '', '', '', '', '', ''], ['0', '7', '', '', '', '', '', ''], ['6', '9', '', '', '', '', '', ''], ['0', '1', '6', '10', '12', '16', '', ''], ['0', '1', '4', '6', '8', '9', '', ''], ['9', '10', '', '', '', '', '', ''], ['0', '3', '5', '8', '11', '14', '', ''], ['0', '3', '12', '15', '', '', '', ''], ['6', '10', '11', '13', '', '', '', ''], ['3', '5', '8', '11', '19', '21', '22', '26'], ['1', '4', '5', '7', '9', '15', '', ''], ['1', '6', '', '', '', '', '', ''], ['0', '1', '3', '4', '7', '9', '14', '15'], ['0', '2', '5', '8', '14', '16', '', ''], ['6', '8', '', '', '', '', '', ''], ['4', '5', '12', '14', '17', '18', '', ''], ['0', '2', '13', '14', '', '', '', ''], ['12', '13', '', '', '', '', '', ''], ['0', '1', '2', '5', '', '', '', ''], ['10', '11', '', '', '', '', '', ''], ['1', '2', '9', '10', '', '', '', ''], ['1', '2', '10', '13', '', '', '', ''], ['0', '5', '9', '12', '', '', '', ''], ['', '', '', '', '', '', '', ''], ['1', '8', '10', '11', '', '', '', ''], ['4', '5', '9', '12', '', '', '', ''], ['', '', '', '', '', '', '', ''], ['1', '2', '4', '8', '', '', '', ''], ['3', '4', '6', '9', '', '', '', ''], ['0', '4', '6', '7', '', '', '', '']]\n[['1', '5'], ['2', '3'], [], [], ['1', '2'], [], ['1', '4'], ['2', '4'], ['0', '3'], [], ['5', '6'], [], ['5', '6'], [], ['1', '3', '6', '7'], ['3', '5'], [], [], ['2', '4', '5', '7'], ['4', '6'], ['2', '6'], ['3', '4', '5', '6'], [], [], [], ['2', '4', '5', '6'], ['1', '2', '4', '5'], [], ['2', '6'], ['4', '7'], ['0', '1', '3', '4'], ['1', '4'], [], ['1', '3'], [], [], ['3', '4'], ['1', '4', '5', '6'], ['6', '7'], [], ['3', '5'], ['3', '5', '6', '8'], [], ['2', '3'], [], ['0', '3'], ['1', '5'], ['2', '3', '5', '6'], ['4', '6'], ['1', '4'], ['0', '4'], ['0', '3', '5', '6'], ['1', '4'], ['2', '5'], [], [], ['1', '6'], ['0', '1'], ['0', '2', '4', '6'], ['1', '4'], ['0', '1', '2', '4', '5', '6'], ['0', '6'], ['0', '2', '3', '5'], ['1', '2', '4', '5'], ['0', '3', '4', '6'], ['0', '4'], ['1', '2', '4', '5'], ['2', '4', '5', '6'], ['4', '6'], [], ['4', '6'], ['3', '4'], [], [], ['0', '7'], ['6', '9'], ['0', '1', '6', '10', '12', '16'], ['0', '1', '4', '6', '8', '9'], ['9', '10'], ['0', '3', '5', '8', '11', '14'], ['0', '3', '12', '15'], ['6', '10', '11', '13'], ['3', '5', '8', '11', '19', '21', '22', '26'], ['1', '4', '5', '7', '9', '15'], ['1', '6'], ['0', '1', '3', '4', '7', '9', '14', '15'], ['0', '2', '5', '8', '14', '16'], ['6', '8'], ['4', '5', '12', '14', '17', '18'], ['0', '2', '13', '14'], ['12', '13'], ['0', '1', '2', '5'], ['10', '11'], ['1', '2', '9', '10'], ['1', '2', '10', '13'], ['0', '5', '9', '12'], [], ['1', '8', '10', '11'], ['4', '5', '9', '12'], [], ['1', '2', '4', '8'], ['3', '4', '6', '9'], ['0', '4', '6', '7']]\n"
     ]
    }
   ],
   "source": [
    "import csv\n",
    "with open('C:/RoadCrossingAssistant/Data/labels_secondwise_modified.csv', newline='') as f:\n",
    "    reader = csv.reader(f)\n",
    "    data = list(reader)\n",
    "\n",
    "print(data)\n",
    "\n",
    "for i in range(len(data)):\n",
    "\n",
    "    data[i] = [x for n, x in enumerate(data[i]) if any(y != '' for y in data[i][n:])] \n",
    "\n",
    "print(data)"
   ]
  },
  {
   "cell_type": "code",
   "execution_count": 2,
   "metadata": {},
   "outputs": [
    {
     "output_type": "stream",
     "name": "stdout",
     "text": [
      "[[1, 5], [2, 3], [], [], [1, 2], [], [1, 4], [2, 4], [0, 3], [], [5, 6], [], [5, 6], [], [1, 3, 6, 7], [3, 5], [], [], [2, 4, 5, 7], [4, 6], [2, 6], [3, 4, 5, 6], [], [], [], [2, 4, 5, 6], [1, 2, 4, 5], [], [2, 6], [4, 7], [0, 1, 3, 4], [1, 4], [], [1, 3], [], [], [3, 4], [1, 4, 5, 6], [6, 7], [], [3, 5], [3, 5, 6, 8], [], [2, 3], [], [0, 3], [1, 5], [2, 3, 5, 6], [4, 6], [1, 4], [0, 4], [0, 3, 5, 6], [1, 4], [2, 5], [], [], [1, 6], [0, 1], [0, 2, 4, 6], [1, 4], [0, 1, 2, 4, 5, 6], [0, 6], [0, 2, 3, 5], [1, 2, 4, 5], [0, 3, 4, 6], [0, 4], [1, 2, 4, 5], [2, 4, 5, 6], [4, 6], [], [4, 6], [3, 4], [], [], [0, 7], [6, 9], [0, 1, 6, 10, 12, 16], [0, 1, 4, 6, 8, 9], [9, 10], [0, 3, 5, 8, 11, 14], [0, 3, 12, 15], [6, 10, 11, 13], [3, 5, 8, 11, 19, 21, 22, 26], [1, 4, 5, 7, 9, 15], [1, 6], [0, 1, 3, 4, 7, 9, 14, 15], [0, 2, 5, 8, 14, 16], [6, 8], [4, 5, 12, 14, 17, 18], [0, 2, 13, 14], [12, 13], [0, 1, 2, 5], [10, 11], [1, 2, 9, 10], [1, 2, 10, 13], [0, 5, 9, 12], [], [1, 8, 10, 11], [4, 5, 9, 12], [], [1, 2, 4, 8], [3, 4, 6, 9], [0, 4, 6, 7]]\n[[], [1, 5], [2, 3], [], [], [1, 2], [], [1, 4], [2, 4], [0, 3], [], [5, 6], [], [5, 6], [], [1, 3, 6, 7], [3, 5], [], [], [2, 4, 5, 7], [4, 6], [2, 6], [3, 4, 5, 6], [], [], [], [2, 4, 5, 6], [1, 2, 4, 5], [], [2, 6], [4, 7], [0, 1, 3, 4], [1, 4], [], [1, 3], [], [], [3, 4], [1, 4, 5, 6], [6, 7], [], [3, 5], [3, 5, 6, 8], [], [2, 3], [], [0, 3], [1, 5], [2, 3, 5, 6], [4, 6], [1, 4], [0, 4], [0, 3, 5, 6], [1, 4], [2, 5], [], [], [1, 6], [0, 1], [0, 2, 4, 6], [1, 4], [0, 1, 2, 4, 5, 6], [0, 6], [0, 2, 3, 5], [1, 2, 4, 5], [0, 3, 4, 6], [0, 4], [1, 2, 4, 5], [2, 4, 5, 6], [4, 6], [], [4, 6], [3, 4], [], [], [0, 7], [6, 9], [0, 1, 6, 10, 12, 16], [0, 1, 4, 6, 8, 9], [9, 10], [0, 3, 5, 8, 11, 14], [0, 3, 12, 15], [6, 10, 11, 13], [3, 5, 8, 11, 19, 21, 22, 26], [1, 4, 5, 7, 9, 15], [1, 6], [0, 1, 3, 4, 7, 9, 14, 15], [0, 2, 5, 8, 14, 16], [6, 8], [4, 5, 12, 14, 17, 18], [0, 2, 13, 14], [12, 13], [0, 1, 2, 5], [10, 11], [1, 2, 9, 10], [1, 2, 10, 13], [0, 5, 9, 12], [], [1, 8, 10, 11], [4, 5, 9, 12], [], [1, 2, 4, 8], [3, 4, 6, 9], [0, 4, 6, 7]]\n"
     ]
    }
   ],
   "source": [
    "for i in range(len(data)):\n",
    "    data[i] =  list(map(int, data[i]))\n",
    "\n",
    "print(data)\n",
    "\n",
    "l = [[]]\n",
    "l.extend(data)\n",
    "print(l)"
   ]
  },
  {
   "cell_type": "code",
   "execution_count": null,
   "metadata": {},
   "outputs": [],
   "source": [
    "open_file = open('C:/RoadCrossingAssistant/Data/labels_secondwise_modified.pkl', \"wb\")\n",
    "pickle.dump(l, open_file)\n",
    "open_file.close()\n",
    "\n",
    "open_file = open('C:/RoadCrossingAssistant/Data/labels_secondwise_modified.pkl', \"rb\")\n",
    "loaded_list = pickle.load(open_file)\n",
    "open_file.close()\n",
    "print(loaded_list)"
   ]
  },
  {
   "cell_type": "code",
   "execution_count": 3,
   "metadata": {},
   "outputs": [
    {
     "output_type": "execute_result",
     "data": {
      "text/plain": [
       "[0, 2, 3, 4]"
      ]
     },
     "metadata": {},
     "execution_count": 3
    }
   ],
   "source": [
    "l = [0,1,0,0,0,1]\n",
    "\n",
    "labels_0 = [i for i, value in enumerate(l) if value == 0]\n",
    "labels_0"
   ]
  },
  {
   "cell_type": "code",
   "execution_count": 9,
   "metadata": {},
   "outputs": [
    {
     "output_type": "stream",
     "name": "stdout",
     "text": [
      "104\n",
      "video number:  1  frames in video: 180.0\n",
      "video number:  2  frames in video: 180.0\n",
      "video number:  3  frames in video: 180.0\n",
      "video number:  4  frames in video: 180.0\n",
      "video number:  5  frames in video: 510.0\n",
      "video number:  6  frames in video: 750.0\n",
      "video number:  7  frames in video: 570.0\n",
      "video number:  8  frames in video: 180.0\n",
      "video number:  9  frames in video: 450.0\n",
      "video number:  10  frames in video: 180.0\n",
      "video number:  11  frames in video: 420.0\n",
      "video number:  12  frames in video: 180.0\n",
      "video number:  13  frames in video: 420.0\n",
      "video number:  14  frames in video: 180.0\n",
      "video number:  15  frames in video: 180.0\n",
      "video number:  16  frames in video: 450.0\n",
      "video number:  17  frames in video: 240.0\n",
      "video number:  18  frames in video: 180.0\n",
      "video number:  19  frames in video: 180.0\n",
      "video number:  20  frames in video: 240.0\n",
      "video number:  21  frames in video: 210.0\n",
      "video number:  22  frames in video: 150.0\n",
      "video number:  23  frames in video: 180.0\n",
      "video number:  24  frames in video: 180.0\n",
      "video number:  25  frames in video: 210.0\n",
      "video number:  26  frames in video: 180.0\n",
      "video number:  27  frames in video: 180.0\n",
      "video number:  28  frames in video: 180.0\n",
      "video number:  29  frames in video: 240.0\n",
      "video number:  30  frames in video: 210.0\n",
      "video number:  31  frames in video: 210.0\n",
      "video number:  32  frames in video: 300.0\n",
      "video number:  33  frames in video: 180.0\n",
      "video number:  34  frames in video: 180.0\n",
      "video number:  35  frames in video: 330.0\n",
      "video number:  36  frames in video: 210.0\n",
      "video number:  37  frames in video: 180.0\n",
      "video number:  38  frames in video: 180.0\n",
      "video number:  39  frames in video: 180.0\n",
      "video number:  40  frames in video: 180.0\n",
      "video number:  41  frames in video: 300.0\n",
      "video number:  42  frames in video: 210.0\n",
      "video number:  43  frames in video: 480.0\n",
      "video number:  44  frames in video: 180.0\n",
      "video number:  45  frames in video: 210.0\n",
      "video number:  46  frames in video: 180.0\n",
      "video number:  47  frames in video: 150.0\n",
      "video number:  48  frames in video: 180.0\n",
      "video number:  49  frames in video: 150.0\n",
      "video number:  50  frames in video: 150.0\n",
      "video number:  51  frames in video: 180.0\n",
      "video number:  52  frames in video: 240.0\n",
      "video number:  53  frames in video: 240.0\n",
      "video number:  54  frames in video: 180.0\n",
      "video number:  55  frames in video: 420.0\n",
      "video number:  56  frames in video: 180.0\n",
      "video number:  57  frames in video: 240.0\n",
      "video number:  58  frames in video: 180.0\n",
      "video number:  59  frames in video: 570.0\n",
      "video number:  60  frames in video: 390.0\n",
      "video number:  61  frames in video: 180.0\n",
      "video number:  62  frames in video: 150.0\n",
      "video number:  63  frames in video: 390.0\n",
      "video number:  64  frames in video: 690.0\n",
      "video number:  65  frames in video: 150.0\n",
      "video number:  66  frames in video: 210.0\n",
      "video number:  67  frames in video: 210.0\n",
      "video number:  68  frames in video: 780.0\n",
      "video number:  69  frames in video: 180.0\n",
      "video number:  70  frames in video: 330.0\n",
      "video number:  71  frames in video: 210.0\n",
      "video number:  72  frames in video: 240.0\n",
      "video number:  73  frames in video: 180.0\n",
      "video number:  74  frames in video: 180.0\n",
      "video number:  75  frames in video: 330.0\n",
      "video number:  76  frames in video: 210.0\n",
      "video number:  77  frames in video: 570.0\n",
      "video number:  78  frames in video: 210.0\n",
      "video number:  79  frames in video: 180.0\n",
      "video number:  80  frames in video: 180.0\n",
      "video number:  81  frames in video: 180.0\n",
      "video number:  82  frames in video: 180.0\n",
      "video number:  83  frames in video: 180.0\n",
      "video number:  84  frames in video: 390.0\n",
      "video number:  85  frames in video: 180.0\n",
      "video number:  86  frames in video: 480.0\n",
      "video number:  87  frames in video: 210.0\n",
      "video number:  88  frames in video: 180.0\n",
      "video number:  89  frames in video: 180.0\n",
      "video number:  90  frames in video: 180.0\n",
      "video number:  91  frames in video: 180.0\n",
      "video number:  92  frames in video: 180.0\n",
      "video number:  93  frames in video: 180.0\n",
      "video number:  94  frames in video: 180.0\n",
      "video number:  95  frames in video: 330.0\n",
      "video number:  96  frames in video: 390.0\n",
      "video number:  97  frames in video: 180.0\n",
      "video number:  98  frames in video: 390.0\n",
      "video number:  99  frames in video: 150.0\n",
      "video number:  100  frames in video: 480.0\n",
      "video number:  101  frames in video: 180.0\n",
      "video number:  102  frames in video: 180.0\n",
      "video number:  103  frames in video: 180.0\n",
      "video number:  104  frames in video: 150.0\n",
      "Total Frames: 26520\n"
     ]
    }
   ],
   "source": [
    "# total number of frames in all videos\n",
    "import glob\n",
    "import cv2\n",
    "\n",
    "path_videos = '/home/yagnesh/Study/Machine Learning/ML projects/RoadCrossingAssistant_Arrays/videos/'\n",
    "videos = glob.glob(path_videos+'video*.MOV')\n",
    "print(len(videos))\n",
    "total_frames = 0\n",
    "for i in range(len(videos)):\n",
    "    cap = cv2.VideoCapture(videos[i])\n",
    "\n",
    "    total_frames = total_frames + int(cap.get(cv2.CAP_PROP_FRAME_COUNT))\n",
    "    print('video number: ',i+1,' frames in video:', cap.get(cv2.CAP_PROP_FRAME_COUNT))\n",
    "\n",
    "print('Total Frames:',total_frames)"
   ]
  },
  {
   "cell_type": "code",
   "execution_count": null,
   "metadata": {},
   "outputs": [],
   "source": []
  }
 ]
}