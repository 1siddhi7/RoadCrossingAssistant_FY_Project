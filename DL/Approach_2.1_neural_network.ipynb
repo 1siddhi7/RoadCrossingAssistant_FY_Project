{
 "cells": [
  {
   "cell_type": "code",
   "execution_count": 2,
   "metadata": {},
   "outputs": [],
   "source": [
    "import pickle\r\n",
    "import tensorflow as tf\r\n",
    "from tensorflow.keras.models import Sequential\r\n",
    "import pandas as pd\r\n",
    "from tensorflow.keras.layers import Dense\r\n",
    "from tensorflow.keras.layers import BatchNormalization"
   ]
  },
  {
   "cell_type": "code",
   "execution_count": 3,
   "metadata": {},
   "outputs": [],
   "source": [
    "user=\"yagnesh\"\r\n",
    "\r\n",
    "if user == \"yagnesh\":\r\n",
    "    path_saved_models = 'C:/Users/yagnesh.patil/Documents/Personal/RoadCrossingAssistant_Data/Trained Models/'"
   ]
  },
  {
   "cell_type": "code",
   "execution_count": 4,
   "metadata": {},
   "outputs": [],
   "source": [
    "features_train = pd.read_pickle(path_saved_models + 'features_train.pkl')\r\n",
    "features_test = pd.read_pickle(path_saved_models + 'features_test.pkl')\r\n",
    "labels_train = pd.read_pickle(path_saved_models + 'labels_train.pkl')\r\n",
    "labels_test = pd.read_pickle(path_saved_models + 'labels_test.pkl')"
   ]
  },
  {
   "cell_type": "code",
   "execution_count": 5,
   "metadata": {},
   "outputs": [
    {
     "name": "stdout",
     "output_type": "stream",
     "text": [
      "(16505, 240)\n",
      "(6030, 240)\n",
      "(16505, 1)\n",
      "(6030, 1)\n"
     ]
    }
   ],
   "source": [
    "print(features_train.shape)\r\n",
    "print(features_test.shape)\r\n",
    "print(labels_train.shape)\r\n",
    "print(labels_test.shape)"
   ]
  },
  {
   "cell_type": "code",
   "execution_count": 6,
   "metadata": {},
   "outputs": [
    {
     "name": "stdout",
     "output_type": "stream",
     "text": [
      "Epoch 1/10\n",
      "16505/16505 [==============================] - 29s 2ms/step - loss: 0.3747 - acc: 0.5242\n",
      "Epoch 2/10\n",
      "16505/16505 [==============================] - 41s 3ms/step - loss: 0.3339 - acc: 0.7034\n",
      "Epoch 3/10\n",
      "16505/16505 [==============================] - 31s 2ms/step - loss: 0.3167 - acc: 0.7280\n",
      "Epoch 4/10\n",
      "16505/16505 [==============================] - 33s 2ms/step - loss: 0.3103 - acc: 0.7314\n",
      "Epoch 5/10\n",
      "16505/16505 [==============================] - 35s 2ms/step - loss: 0.3021 - acc: 0.7539\n",
      "Epoch 6/10\n",
      "16505/16505 [==============================] - 33s 2ms/step - loss: 0.2982 - acc: 0.7631\n",
      "Epoch 7/10\n",
      "16505/16505 [==============================] - 35s 2ms/step - loss: 0.2928 - acc: 0.7737\n",
      "Epoch 8/10\n",
      "16505/16505 [==============================] - 32s 2ms/step - loss: 0.2912 - acc: 0.7742\n",
      "Epoch 9/10\n",
      "16505/16505 [==============================] - 30s 2ms/step - loss: 0.2867 - acc: 0.7955\n",
      "Epoch 10/10\n",
      "16505/16505 [==============================] - 34s 2ms/step - loss: 0.2835 - acc: 0.7987\n"
     ]
    },
    {
     "data": {
      "text/plain": "<tensorflow.python.keras.callbacks.History at 0x1e54b1c3898>"
     },
     "execution_count": 6,
     "metadata": {},
     "output_type": "execute_result"
    }
   ],
   "source": [
    "model = Sequential()\r\n",
    "# model.add(BatchNormalization(input_shape=(240,)))\r\n",
    "model.add(Dense(8, activation='relu',input_shape=(240,)))\r\n",
    "model.add(Dense(8,activation='relu'))\r\n",
    "model.add(Dense(1,activation='sigmoid'))\r\n",
    "\r\n",
    "model.compile(loss='binary_crossentropy',optimizer='adam',metrics=[tf.keras.metrics.RecallAtPrecision(precision=0.9, name='acc')])\r\n",
    "\r\n",
    "model.fit(features_train, labels_train, epochs=10, batch_size=1, verbose=1)"
   ]
  },
  {
   "cell_type": "code",
   "execution_count": 7,
   "metadata": {},
   "outputs": [
    {
     "name": "stdout",
     "output_type": "stream",
     "text": [
      "189/189 [==============================] - 0s 1ms/step - loss: 0.3019 - acc: 0.7428\n",
      "[0.3019338548183441, 0.7428174018859863]\n"
     ]
    }
   ],
   "source": [
    "prediction = model.predict(features_test)\r\n",
    "\r\n",
    "score = model.evaluate(features_test, labels_test, verbose=1)\r\n",
    "\r\n",
    "print(score)"
   ]
  },
  {
   "cell_type": "code",
   "execution_count": null,
   "metadata": {},
   "outputs": [],
   "source": []
  }
 ],
 "metadata": {
  "kernelspec": {
   "display_name": "Python 3.7.3 64-bit ('roadcross': conda)",
   "name": "python373jvsc74a57bd0924e9ad78d768332a009ccb1e939c0cbb5ebc33a806aa67bd510823b88869e7c"
  },
  "language_info": {
   "codemirror_mode": {
    "name": "ipython",
    "version": 3
   },
   "file_extension": ".py",
   "mimetype": "text/x-python",
   "name": "python",
   "nbconvert_exporter": "python",
   "pygments_lexer": "ipython3",
   "version": "3.7.3"
  },
  "orig_nbformat": 2
 },
 "nbformat": 4,
 "nbformat_minor": 2
}