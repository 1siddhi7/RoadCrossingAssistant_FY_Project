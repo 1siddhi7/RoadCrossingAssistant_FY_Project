{
 "metadata": {
  "language_info": {
   "codemirror_mode": {
    "name": "ipython",
    "version": 3
   },
   "file_extension": ".py",
   "mimetype": "text/x-python",
   "name": "python",
   "nbconvert_exporter": "python",
   "pygments_lexer": "ipython3",
   "version": "3.7.3-final"
  },
  "orig_nbformat": 2,
  "kernelspec": {
   "name": "python373jvsc74a57bd0efbaad368bcd49cf5b8b1d4bc08527738fe3c05d47d6e3ea110540aa6c36949d",
   "display_name": "Python 3.7.3 64-bit ('roadcross': conda)"
  }
 },
 "nbformat": 4,
 "nbformat_minor": 2,
 "cells": [
  {
   "source": [
    "few snippets to convert a csv file into a proper list"
   ],
   "cell_type": "markdown",
   "metadata": {}
  },
  {
   "cell_type": "code",
   "execution_count": 1,
   "metadata": {},
   "outputs": [
    {
     "output_type": "stream",
     "name": "stdout",
     "text": [
      "[['1', '5', '', '', '', '', '', ''], ['2', '3', '', '', '', '', '', ''], ['', '', '', '', '', '', '', ''], ['', '', '', '', '', '', '', ''], ['1', '2', '', '', '', '', '', ''], ['', '', '', '', '', '', '', ''], ['1', '4', '', '', '', '', '', ''], ['2', '4', '', '', '', '', '', ''], ['0', '3', '', '', '', '', '', ''], ['', '', '', '', '', '', '', ''], ['5', '6', '', '', '', '', '', ''], ['', '', '', '', '', '', '', ''], ['5', '6', '', '', '', '', '', ''], ['', '', '', '', '', '', '', ''], ['1', '3', '6', '7', '', '', '', ''], ['3', '5', '', '', '', '', '', ''], ['', '', '', '', '', '', '', ''], ['', '', '', '', '', '', '', ''], ['2', '4', '5', '7', '', '', '', ''], ['4', '6', '', '', '', '', '', ''], ['2', '6', '', '', '', '', '', ''], ['3', '4', '5', '6', '', '', '', ''], ['', '', '', '', '', '', '', ''], ['', '', '', '', '', '', '', ''], ['', '', '', '', '', '', '', ''], ['2', '4', '5', '6', '', '', '', ''], ['1', '2', '4', '5', '', '', '', ''], ['', '', '', '', '', '', '', ''], ['2', '6', '', '', '', '', '', ''], ['4', '7', '', '', '', '', '', ''], ['0', '1', '3', '4', '', '', '', ''], ['1', '4', '', '', '', '', '', ''], ['', '', '', '', '', '', '', ''], ['1', '3', '', '', '', '', '', ''], ['', '', '', '', '', '', '', ''], ['', '', '', '', '', '', '', ''], ['3', '4', '', '', '', '', '', ''], ['1', '4', '5', '6', '', '', '', ''], ['6', '7', '', '', '', '', '', ''], ['', '', '', '', '', '', '', ''], ['3', '5', '', '', '', '', '', ''], ['3', '5', '6', '8', '', '', '', ''], ['', '', '', '', '', '', '', ''], ['2', '3', '', '', '', '', '', ''], ['', '', '', '', '', '', '', ''], ['0', '3', '', '', '', '', '', ''], ['1', '5', '', '', '', '', '', ''], ['2', '3', '5', '6', '', '', '', ''], ['4', '6', '', '', '', '', '', ''], ['1', '4', '', '', '', '', '', ''], ['0', '4', '', '', '', '', '', ''], ['0', '3', '5', '6', '', '', '', ''], ['1', '4', '', '', '', '', '', ''], ['2', '5', '', '', '', '', '', ''], ['', '', '', '', '', '', '', ''], ['', '', '', '', '', '', '', ''], ['1', '6', '', '', '', '', '', ''], ['0', '1', '', '', '', '', '', ''], ['0', '2', '4', '6', '', '', '', ''], ['1', '4', '', '', '', '', '', ''], ['0', '1', '2', '4', '5', '6', '', ''], ['0', '6', '', '', '', '', '', ''], ['0', '2', '3', '5', '', '', '', ''], ['1', '2', '4', '5', '', '', '', ''], ['0', '3', '4', '6', '', '', '', ''], ['0', '4', '', '', '', '', '', ''], ['1', '2', '4', '5', '', '', '', ''], ['2', '4', '5', '6', '', '', '', ''], ['4', '6', '', '', '', '', '', ''], ['', '', '', '', '', '', '', ''], ['4', '6', '', '', '', '', '', ''], ['3', '4', '', '', '', '', '', ''], ['', '', '', '', '', '', '', ''], ['', '', '', '', '', '', '', ''], ['0', '7', '', '', '', '', '', ''], ['6', '9', '', '', '', '', '', ''], ['0', '1', '6', '10', '12', '16', '', ''], ['0', '1', '4', '6', '8', '9', '', ''], ['9', '10', '', '', '', '', '', ''], ['0', '3', '5', '8', '11', '14', '', ''], ['0', '3', '12', '15', '', '', '', ''], ['6', '10', '11', '13', '', '', '', ''], ['3', '5', '8', '11', '19', '21', '22', '26'], ['1', '4', '5', '7', '9', '15', '', ''], ['1', '6', '', '', '', '', '', ''], ['0', '1', '3', '4', '7', '9', '14', '15'], ['0', '2', '5', '8', '14', '16', '', ''], ['6', '8', '', '', '', '', '', ''], ['4', '5', '12', '14', '17', '18', '', ''], ['0', '2', '13', '14', '', '', '', ''], ['12', '13', '', '', '', '', '', ''], ['0', '1', '2', '5', '', '', '', ''], ['10', '11', '', '', '', '', '', ''], ['1', '2', '9', '10', '', '', '', ''], ['1', '2', '10', '13', '', '', '', ''], ['0', '5', '9', '12', '', '', '', ''], ['', '', '', '', '', '', '', ''], ['1', '8', '10', '11', '', '', '', ''], ['4', '5', '9', '12', '', '', '', ''], ['', '', '', '', '', '', '', ''], ['1', '2', '4', '8', '', '', '', ''], ['3', '4', '6', '9', '', '', '', ''], ['0', '4', '6', '7', '', '', '', '']]\n[['1', '5'], ['2', '3'], [], [], ['1', '2'], [], ['1', '4'], ['2', '4'], ['0', '3'], [], ['5', '6'], [], ['5', '6'], [], ['1', '3', '6', '7'], ['3', '5'], [], [], ['2', '4', '5', '7'], ['4', '6'], ['2', '6'], ['3', '4', '5', '6'], [], [], [], ['2', '4', '5', '6'], ['1', '2', '4', '5'], [], ['2', '6'], ['4', '7'], ['0', '1', '3', '4'], ['1', '4'], [], ['1', '3'], [], [], ['3', '4'], ['1', '4', '5', '6'], ['6', '7'], [], ['3', '5'], ['3', '5', '6', '8'], [], ['2', '3'], [], ['0', '3'], ['1', '5'], ['2', '3', '5', '6'], ['4', '6'], ['1', '4'], ['0', '4'], ['0', '3', '5', '6'], ['1', '4'], ['2', '5'], [], [], ['1', '6'], ['0', '1'], ['0', '2', '4', '6'], ['1', '4'], ['0', '1', '2', '4', '5', '6'], ['0', '6'], ['0', '2', '3', '5'], ['1', '2', '4', '5'], ['0', '3', '4', '6'], ['0', '4'], ['1', '2', '4', '5'], ['2', '4', '5', '6'], ['4', '6'], [], ['4', '6'], ['3', '4'], [], [], ['0', '7'], ['6', '9'], ['0', '1', '6', '10', '12', '16'], ['0', '1', '4', '6', '8', '9'], ['9', '10'], ['0', '3', '5', '8', '11', '14'], ['0', '3', '12', '15'], ['6', '10', '11', '13'], ['3', '5', '8', '11', '19', '21', '22', '26'], ['1', '4', '5', '7', '9', '15'], ['1', '6'], ['0', '1', '3', '4', '7', '9', '14', '15'], ['0', '2', '5', '8', '14', '16'], ['6', '8'], ['4', '5', '12', '14', '17', '18'], ['0', '2', '13', '14'], ['12', '13'], ['0', '1', '2', '5'], ['10', '11'], ['1', '2', '9', '10'], ['1', '2', '10', '13'], ['0', '5', '9', '12'], [], ['1', '8', '10', '11'], ['4', '5', '9', '12'], [], ['1', '2', '4', '8'], ['3', '4', '6', '9'], ['0', '4', '6', '7']]\n"
     ]
    }
   ],
   "source": [
    "import csv\n",
    "with open('C:/RoadCrossingAssistant/Data/labels_secondwise_modified.csv', newline='') as f:\n",
    "    reader = csv.reader(f)\n",
    "    data = list(reader)\n",
    "\n",
    "print(data)\n",
    "\n",
    "for i in range(len(data)):\n",
    "\n",
    "    data[i] = [x for n, x in enumerate(data[i]) if any(y != '' for y in data[i][n:])] \n",
    "\n",
    "print(data)"
   ]
  },
  {
   "cell_type": "code",
   "execution_count": 2,
   "metadata": {},
   "outputs": [
    {
     "output_type": "stream",
     "name": "stdout",
     "text": [
      "[[1, 5], [2, 3], [], [], [1, 2], [], [1, 4], [2, 4], [0, 3], [], [5, 6], [], [5, 6], [], [1, 3, 6, 7], [3, 5], [], [], [2, 4, 5, 7], [4, 6], [2, 6], [3, 4, 5, 6], [], [], [], [2, 4, 5, 6], [1, 2, 4, 5], [], [2, 6], [4, 7], [0, 1, 3, 4], [1, 4], [], [1, 3], [], [], [3, 4], [1, 4, 5, 6], [6, 7], [], [3, 5], [3, 5, 6, 8], [], [2, 3], [], [0, 3], [1, 5], [2, 3, 5, 6], [4, 6], [1, 4], [0, 4], [0, 3, 5, 6], [1, 4], [2, 5], [], [], [1, 6], [0, 1], [0, 2, 4, 6], [1, 4], [0, 1, 2, 4, 5, 6], [0, 6], [0, 2, 3, 5], [1, 2, 4, 5], [0, 3, 4, 6], [0, 4], [1, 2, 4, 5], [2, 4, 5, 6], [4, 6], [], [4, 6], [3, 4], [], [], [0, 7], [6, 9], [0, 1, 6, 10, 12, 16], [0, 1, 4, 6, 8, 9], [9, 10], [0, 3, 5, 8, 11, 14], [0, 3, 12, 15], [6, 10, 11, 13], [3, 5, 8, 11, 19, 21, 22, 26], [1, 4, 5, 7, 9, 15], [1, 6], [0, 1, 3, 4, 7, 9, 14, 15], [0, 2, 5, 8, 14, 16], [6, 8], [4, 5, 12, 14, 17, 18], [0, 2, 13, 14], [12, 13], [0, 1, 2, 5], [10, 11], [1, 2, 9, 10], [1, 2, 10, 13], [0, 5, 9, 12], [], [1, 8, 10, 11], [4, 5, 9, 12], [], [1, 2, 4, 8], [3, 4, 6, 9], [0, 4, 6, 7]]\n[[], [1, 5], [2, 3], [], [], [1, 2], [], [1, 4], [2, 4], [0, 3], [], [5, 6], [], [5, 6], [], [1, 3, 6, 7], [3, 5], [], [], [2, 4, 5, 7], [4, 6], [2, 6], [3, 4, 5, 6], [], [], [], [2, 4, 5, 6], [1, 2, 4, 5], [], [2, 6], [4, 7], [0, 1, 3, 4], [1, 4], [], [1, 3], [], [], [3, 4], [1, 4, 5, 6], [6, 7], [], [3, 5], [3, 5, 6, 8], [], [2, 3], [], [0, 3], [1, 5], [2, 3, 5, 6], [4, 6], [1, 4], [0, 4], [0, 3, 5, 6], [1, 4], [2, 5], [], [], [1, 6], [0, 1], [0, 2, 4, 6], [1, 4], [0, 1, 2, 4, 5, 6], [0, 6], [0, 2, 3, 5], [1, 2, 4, 5], [0, 3, 4, 6], [0, 4], [1, 2, 4, 5], [2, 4, 5, 6], [4, 6], [], [4, 6], [3, 4], [], [], [0, 7], [6, 9], [0, 1, 6, 10, 12, 16], [0, 1, 4, 6, 8, 9], [9, 10], [0, 3, 5, 8, 11, 14], [0, 3, 12, 15], [6, 10, 11, 13], [3, 5, 8, 11, 19, 21, 22, 26], [1, 4, 5, 7, 9, 15], [1, 6], [0, 1, 3, 4, 7, 9, 14, 15], [0, 2, 5, 8, 14, 16], [6, 8], [4, 5, 12, 14, 17, 18], [0, 2, 13, 14], [12, 13], [0, 1, 2, 5], [10, 11], [1, 2, 9, 10], [1, 2, 10, 13], [0, 5, 9, 12], [], [1, 8, 10, 11], [4, 5, 9, 12], [], [1, 2, 4, 8], [3, 4, 6, 9], [0, 4, 6, 7]]\n"
     ]
    }
   ],
   "source": [
    "for i in range(len(data)):\n",
    "    data[i] =  list(map(int, data[i]))\n",
    "\n",
    "print(data)\n",
    "\n",
    "l = [[]]\n",
    "l.extend(data)\n",
    "print(l)"
   ]
  },
  {
   "cell_type": "code",
   "execution_count": null,
   "metadata": {},
   "outputs": [],
   "source": [
    "open_file = open('C:/RoadCrossingAssistant/Data/labels_secondwise_modified.pkl', \"wb\")\n",
    "pickle.dump(l, open_file)\n",
    "open_file.close()\n",
    "\n",
    "open_file = open('C:/RoadCrossingAssistant/Data/labels_secondwise_modified.pkl', \"rb\")\n",
    "loaded_list = pickle.load(open_file)\n",
    "open_file.close()\n",
    "print(loaded_list)"
   ]
  },
  {
   "cell_type": "code",
   "execution_count": 2,
   "metadata": {},
   "outputs": [
    {
     "output_type": "stream",
     "name": "stdout",
     "text": [
      "[2, 3, 4, 5]\n[2, 3, 4, 5, 7]\n"
     ]
    }
   ],
   "source": [
    "l = [1,2,3,4,5]\n",
    "del l[0]\n",
    "print(l)\n",
    "l.append(7)\n",
    "print(l)"
   ]
  },
  {
   "cell_type": "code",
   "execution_count": 1,
   "metadata": {},
   "outputs": [
    {
     "output_type": "stream",
     "name": "stdout",
     "text": [
      "[[[[[0. 0. 0.]\n    [0. 0. 0.]\n    [0. 0. 0.]\n    [0. 0. 0.]]\n\n   [[0. 0. 0.]\n    [0. 0. 0.]\n    [0. 0. 0.]\n    [0. 0. 0.]]\n\n   [[0. 0. 0.]\n    [0. 0. 0.]\n    [0. 0. 0.]\n    [0. 0. 0.]]\n\n   [[0. 0. 0.]\n    [0. 0. 0.]\n    [0. 0. 0.]\n    [0. 0. 0.]]]\n\n\n  [[[0. 0. 0.]\n    [0. 0. 0.]\n    [0. 0. 0.]\n    [0. 0. 0.]]\n\n   [[0. 0. 0.]\n    [0. 0. 0.]\n    [0. 0. 0.]\n    [0. 0. 0.]]\n\n   [[0. 0. 0.]\n    [0. 0. 0.]\n    [0. 0. 0.]\n    [0. 0. 0.]]\n\n   [[0. 0. 0.]\n    [0. 0. 0.]\n    [0. 0. 0.]\n    [0. 0. 0.]]]]]\n"
     ]
    }
   ],
   "source": [
    "import numpy as np \n",
    "#np.zeros((3,) + (2,) + (2,2,2))\n",
    "\n",
    "#np.empty((self.batch_size, *self.dim, self.n_channels))\n",
    "x = np.empty((1, 2, *(4,4), 3))\n",
    "\n",
    "print(x)"
   ]
  },
  {
   "cell_type": "code",
   "execution_count": 9,
   "metadata": {},
   "outputs": [
    {
     "output_type": "execute_result",
     "data": {
      "text/plain": [
       "array([[[0., 0., 0.],\n",
       "        [0., 0., 0.],\n",
       "        [0., 0., 0.],\n",
       "        [0., 0., 0.]],\n",
       "\n",
       "       [[0., 0., 0.],\n",
       "        [0., 0., 0.],\n",
       "        [0., 0., 0.],\n",
       "        [0., 0., 0.]],\n",
       "\n",
       "       [[0., 0., 0.],\n",
       "        [0., 0., 0.],\n",
       "        [0., 0., 0.],\n",
       "        [0., 0., 0.]],\n",
       "\n",
       "       [[0., 0., 0.],\n",
       "        [0., 0., 0.],\n",
       "        [0., 0., 0.],\n",
       "        [0., 0., 0.]]])"
      ]
     },
     "metadata": {},
     "execution_count": 9
    }
   ],
   "source": [
    "a = np.zeros((4,4,3))\n",
    "\n"
   ]
  },
  {
   "cell_type": "code",
   "execution_count": 4,
   "metadata": {},
   "outputs": [
    {
     "output_type": "stream",
     "name": "stderr",
     "text": [
      "C:\\Anaconda\\envs\\roadcross\\lib\\site-packages\\tensorflow\\python\\framework\\dtypes.py:516: FutureWarning: Passing (type, 1) or '1type' as a synonym of type is deprecated; in a future version of numpy, it will be understood as (type, (1,)) / '(1,)type'.\n",
      "  _np_qint8 = np.dtype([(\"qint8\", np.int8, 1)])\n",
      "C:\\Anaconda\\envs\\roadcross\\lib\\site-packages\\tensorflow\\python\\framework\\dtypes.py:517: FutureWarning: Passing (type, 1) or '1type' as a synonym of type is deprecated; in a future version of numpy, it will be understood as (type, (1,)) / '(1,)type'.\n",
      "  _np_quint8 = np.dtype([(\"quint8\", np.uint8, 1)])\n",
      "C:\\Anaconda\\envs\\roadcross\\lib\\site-packages\\tensorflow\\python\\framework\\dtypes.py:518: FutureWarning: Passing (type, 1) or '1type' as a synonym of type is deprecated; in a future version of numpy, it will be understood as (type, (1,)) / '(1,)type'.\n",
      "  _np_qint16 = np.dtype([(\"qint16\", np.int16, 1)])\n",
      "C:\\Anaconda\\envs\\roadcross\\lib\\site-packages\\tensorflow\\python\\framework\\dtypes.py:519: FutureWarning: Passing (type, 1) or '1type' as a synonym of type is deprecated; in a future version of numpy, it will be understood as (type, (1,)) / '(1,)type'.\n",
      "  _np_quint16 = np.dtype([(\"quint16\", np.uint16, 1)])\n",
      "C:\\Anaconda\\envs\\roadcross\\lib\\site-packages\\tensorflow\\python\\framework\\dtypes.py:520: FutureWarning: Passing (type, 1) or '1type' as a synonym of type is deprecated; in a future version of numpy, it will be understood as (type, (1,)) / '(1,)type'.\n",
      "  _np_qint32 = np.dtype([(\"qint32\", np.int32, 1)])\n",
      "C:\\Anaconda\\envs\\roadcross\\lib\\site-packages\\tensorflow\\python\\framework\\dtypes.py:525: FutureWarning: Passing (type, 1) or '1type' as a synonym of type is deprecated; in a future version of numpy, it will be understood as (type, (1,)) / '(1,)type'.\n",
      "  np_resource = np.dtype([(\"resource\", np.ubyte, 1)])\n",
      "C:\\Anaconda\\envs\\roadcross\\lib\\site-packages\\tensorboard\\compat\\tensorflow_stub\\dtypes.py:541: FutureWarning: Passing (type, 1) or '1type' as a synonym of type is deprecated; in a future version of numpy, it will be understood as (type, (1,)) / '(1,)type'.\n",
      "  _np_qint8 = np.dtype([(\"qint8\", np.int8, 1)])\n",
      "C:\\Anaconda\\envs\\roadcross\\lib\\site-packages\\tensorboard\\compat\\tensorflow_stub\\dtypes.py:542: FutureWarning: Passing (type, 1) or '1type' as a synonym of type is deprecated; in a future version of numpy, it will be understood as (type, (1,)) / '(1,)type'.\n",
      "  _np_quint8 = np.dtype([(\"quint8\", np.uint8, 1)])\n",
      "C:\\Anaconda\\envs\\roadcross\\lib\\site-packages\\tensorboard\\compat\\tensorflow_stub\\dtypes.py:543: FutureWarning: Passing (type, 1) or '1type' as a synonym of type is deprecated; in a future version of numpy, it will be understood as (type, (1,)) / '(1,)type'.\n",
      "  _np_qint16 = np.dtype([(\"qint16\", np.int16, 1)])\n",
      "C:\\Anaconda\\envs\\roadcross\\lib\\site-packages\\tensorboard\\compat\\tensorflow_stub\\dtypes.py:544: FutureWarning: Passing (type, 1) or '1type' as a synonym of type is deprecated; in a future version of numpy, it will be understood as (type, (1,)) / '(1,)type'.\n",
      "  _np_quint16 = np.dtype([(\"quint16\", np.uint16, 1)])\n",
      "C:\\Anaconda\\envs\\roadcross\\lib\\site-packages\\tensorboard\\compat\\tensorflow_stub\\dtypes.py:545: FutureWarning: Passing (type, 1) or '1type' as a synonym of type is deprecated; in a future version of numpy, it will be understood as (type, (1,)) / '(1,)type'.\n",
      "  _np_qint32 = np.dtype([(\"qint32\", np.int32, 1)])\n",
      "C:\\Anaconda\\envs\\roadcross\\lib\\site-packages\\tensorboard\\compat\\tensorflow_stub\\dtypes.py:550: FutureWarning: Passing (type, 1) or '1type' as a synonym of type is deprecated; in a future version of numpy, it will be understood as (type, (1,)) / '(1,)type'.\n",
      "  np_resource = np.dtype([(\"resource\", np.ubyte, 1)])\n"
     ]
    }
   ],
   "source": [
    "import tensorflow as tf"
   ]
  },
  {
   "cell_type": "code",
   "execution_count": 8,
   "metadata": {},
   "outputs": [
    {
     "output_type": "stream",
     "name": "stdout",
     "text": [
      "<DatasetV1Adapter shapes: ((2,), (1,)), types: (tf.int32, tf.int32)>\n"
     ]
    }
   ],
   "source": [
    "x = np.arange(10).reshape((5,2))\n",
    "y = np.array([0,1,1,0,0]).reshape((5,1))\n",
    "\n",
    "dataset = tf.data.Dataset.from_tensor_slices((x,y))\n",
    "\n",
    "print(dataset)"
   ]
  }
 ]
}