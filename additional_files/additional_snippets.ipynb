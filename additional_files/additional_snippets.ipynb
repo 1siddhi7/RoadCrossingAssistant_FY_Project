{
 "metadata": {
  "language_info": {
   "codemirror_mode": {
    "name": "ipython",
    "version": 3
   },
   "file_extension": ".py",
   "mimetype": "text/x-python",
   "name": "python",
   "nbconvert_exporter": "python",
   "pygments_lexer": "ipython3",
   "version": "3.7.10"
  },
  "orig_nbformat": 2,
  "kernelspec": {
   "name": "python3710jvsc74a57bd0ef9bac4ae1cf2e218ffa1980f1e41c661ec7ed9cce62d88c62321f7324c667a8",
   "display_name": "Python 3.7.10 64-bit ('tf_2': conda)"
  }
 },
 "nbformat": 4,
 "nbformat_minor": 2,
 "cells": [
  {
   "source": [
    "few snippets to convert a csv file into a proper list"
   ],
   "cell_type": "markdown",
   "metadata": {}
  },
  {
   "cell_type": "code",
   "execution_count": 1,
   "metadata": {},
   "outputs": [
    {
     "output_type": "stream",
     "name": "stdout",
     "text": [
      "[['1', '5', '', '', '', '', '', ''], ['2', '3', '', '', '', '', '', ''], ['', '', '', '', '', '', '', ''], ['', '', '', '', '', '', '', ''], ['1', '2', '', '', '', '', '', ''], ['', '', '', '', '', '', '', ''], ['1', '4', '', '', '', '', '', ''], ['2', '4', '', '', '', '', '', ''], ['0', '3', '', '', '', '', '', ''], ['', '', '', '', '', '', '', ''], ['5', '6', '', '', '', '', '', ''], ['', '', '', '', '', '', '', ''], ['5', '6', '', '', '', '', '', ''], ['', '', '', '', '', '', '', ''], ['1', '3', '6', '7', '', '', '', ''], ['3', '5', '', '', '', '', '', ''], ['', '', '', '', '', '', '', ''], ['', '', '', '', '', '', '', ''], ['2', '4', '5', '7', '', '', '', ''], ['4', '6', '', '', '', '', '', ''], ['2', '6', '', '', '', '', '', ''], ['3', '4', '5', '6', '', '', '', ''], ['', '', '', '', '', '', '', ''], ['', '', '', '', '', '', '', ''], ['', '', '', '', '', '', '', ''], ['2', '4', '5', '6', '', '', '', ''], ['1', '2', '4', '5', '', '', '', ''], ['', '', '', '', '', '', '', ''], ['2', '6', '', '', '', '', '', ''], ['4', '7', '', '', '', '', '', ''], ['0', '1', '3', '4', '', '', '', ''], ['1', '4', '', '', '', '', '', ''], ['', '', '', '', '', '', '', ''], ['1', '3', '', '', '', '', '', ''], ['', '', '', '', '', '', '', ''], ['', '', '', '', '', '', '', ''], ['3', '4', '', '', '', '', '', ''], ['1', '4', '5', '6', '', '', '', ''], ['6', '7', '', '', '', '', '', ''], ['', '', '', '', '', '', '', ''], ['3', '5', '', '', '', '', '', ''], ['3', '5', '6', '8', '', '', '', ''], ['', '', '', '', '', '', '', ''], ['2', '3', '', '', '', '', '', ''], ['', '', '', '', '', '', '', ''], ['0', '3', '', '', '', '', '', ''], ['1', '5', '', '', '', '', '', ''], ['2', '3', '5', '6', '', '', '', ''], ['4', '6', '', '', '', '', '', ''], ['1', '4', '', '', '', '', '', ''], ['0', '4', '', '', '', '', '', ''], ['0', '3', '5', '6', '', '', '', ''], ['1', '4', '', '', '', '', '', ''], ['2', '5', '', '', '', '', '', ''], ['', '', '', '', '', '', '', ''], ['', '', '', '', '', '', '', ''], ['1', '6', '', '', '', '', '', ''], ['0', '1', '', '', '', '', '', ''], ['0', '2', '4', '6', '', '', '', ''], ['1', '4', '', '', '', '', '', ''], ['0', '1', '2', '4', '5', '6', '', ''], ['0', '6', '', '', '', '', '', ''], ['0', '2', '3', '5', '', '', '', ''], ['1', '2', '4', '5', '', '', '', ''], ['0', '3', '4', '6', '', '', '', ''], ['0', '4', '', '', '', '', '', ''], ['1', '2', '4', '5', '', '', '', ''], ['2', '4', '5', '6', '', '', '', ''], ['4', '6', '', '', '', '', '', ''], ['', '', '', '', '', '', '', ''], ['4', '6', '', '', '', '', '', ''], ['3', '4', '', '', '', '', '', ''], ['', '', '', '', '', '', '', ''], ['', '', '', '', '', '', '', ''], ['0', '7', '', '', '', '', '', ''], ['6', '9', '', '', '', '', '', ''], ['0', '1', '6', '10', '12', '16', '', ''], ['0', '1', '4', '6', '8', '9', '', ''], ['9', '10', '', '', '', '', '', ''], ['0', '3', '5', '8', '11', '14', '', ''], ['0', '3', '12', '15', '', '', '', ''], ['6', '10', '11', '13', '', '', '', ''], ['3', '5', '8', '11', '19', '21', '22', '26'], ['1', '4', '5', '7', '9', '15', '', ''], ['1', '6', '', '', '', '', '', ''], ['0', '1', '3', '4', '7', '9', '14', '15'], ['0', '2', '5', '8', '14', '16', '', ''], ['6', '8', '', '', '', '', '', ''], ['4', '5', '12', '14', '17', '18', '', ''], ['0', '2', '13', '14', '', '', '', ''], ['12', '13', '', '', '', '', '', ''], ['0', '1', '2', '5', '', '', '', ''], ['10', '11', '', '', '', '', '', ''], ['1', '2', '9', '10', '', '', '', ''], ['1', '2', '10', '13', '', '', '', ''], ['0', '5', '9', '12', '', '', '', ''], ['', '', '', '', '', '', '', ''], ['1', '8', '10', '11', '', '', '', ''], ['4', '5', '9', '12', '', '', '', ''], ['', '', '', '', '', '', '', ''], ['1', '2', '4', '8', '', '', '', ''], ['3', '4', '6', '9', '', '', '', ''], ['0', '4', '6', '7', '', '', '', '']]\n[['1', '5'], ['2', '3'], [], [], ['1', '2'], [], ['1', '4'], ['2', '4'], ['0', '3'], [], ['5', '6'], [], ['5', '6'], [], ['1', '3', '6', '7'], ['3', '5'], [], [], ['2', '4', '5', '7'], ['4', '6'], ['2', '6'], ['3', '4', '5', '6'], [], [], [], ['2', '4', '5', '6'], ['1', '2', '4', '5'], [], ['2', '6'], ['4', '7'], ['0', '1', '3', '4'], ['1', '4'], [], ['1', '3'], [], [], ['3', '4'], ['1', '4', '5', '6'], ['6', '7'], [], ['3', '5'], ['3', '5', '6', '8'], [], ['2', '3'], [], ['0', '3'], ['1', '5'], ['2', '3', '5', '6'], ['4', '6'], ['1', '4'], ['0', '4'], ['0', '3', '5', '6'], ['1', '4'], ['2', '5'], [], [], ['1', '6'], ['0', '1'], ['0', '2', '4', '6'], ['1', '4'], ['0', '1', '2', '4', '5', '6'], ['0', '6'], ['0', '2', '3', '5'], ['1', '2', '4', '5'], ['0', '3', '4', '6'], ['0', '4'], ['1', '2', '4', '5'], ['2', '4', '5', '6'], ['4', '6'], [], ['4', '6'], ['3', '4'], [], [], ['0', '7'], ['6', '9'], ['0', '1', '6', '10', '12', '16'], ['0', '1', '4', '6', '8', '9'], ['9', '10'], ['0', '3', '5', '8', '11', '14'], ['0', '3', '12', '15'], ['6', '10', '11', '13'], ['3', '5', '8', '11', '19', '21', '22', '26'], ['1', '4', '5', '7', '9', '15'], ['1', '6'], ['0', '1', '3', '4', '7', '9', '14', '15'], ['0', '2', '5', '8', '14', '16'], ['6', '8'], ['4', '5', '12', '14', '17', '18'], ['0', '2', '13', '14'], ['12', '13'], ['0', '1', '2', '5'], ['10', '11'], ['1', '2', '9', '10'], ['1', '2', '10', '13'], ['0', '5', '9', '12'], [], ['1', '8', '10', '11'], ['4', '5', '9', '12'], [], ['1', '2', '4', '8'], ['3', '4', '6', '9'], ['0', '4', '6', '7']]\n"
     ]
    }
   ],
   "source": [
    "import csv\n",
    "with open('C:/RoadCrossingAssistant/Data/labels_secondwise_modified.csv', newline='') as f:\n",
    "    reader = csv.reader(f)\n",
    "    data = list(reader)\n",
    "\n",
    "print(data)\n",
    "\n",
    "for i in range(len(data)):\n",
    "\n",
    "    data[i] = [x for n, x in enumerate(data[i]) if any(y != '' for y in data[i][n:])] \n",
    "\n",
    "print(data)"
   ]
  },
  {
   "cell_type": "code",
   "execution_count": 2,
   "metadata": {},
   "outputs": [
    {
     "output_type": "stream",
     "name": "stdout",
     "text": [
      "[[1, 5], [2, 3], [], [], [1, 2], [], [1, 4], [2, 4], [0, 3], [], [5, 6], [], [5, 6], [], [1, 3, 6, 7], [3, 5], [], [], [2, 4, 5, 7], [4, 6], [2, 6], [3, 4, 5, 6], [], [], [], [2, 4, 5, 6], [1, 2, 4, 5], [], [2, 6], [4, 7], [0, 1, 3, 4], [1, 4], [], [1, 3], [], [], [3, 4], [1, 4, 5, 6], [6, 7], [], [3, 5], [3, 5, 6, 8], [], [2, 3], [], [0, 3], [1, 5], [2, 3, 5, 6], [4, 6], [1, 4], [0, 4], [0, 3, 5, 6], [1, 4], [2, 5], [], [], [1, 6], [0, 1], [0, 2, 4, 6], [1, 4], [0, 1, 2, 4, 5, 6], [0, 6], [0, 2, 3, 5], [1, 2, 4, 5], [0, 3, 4, 6], [0, 4], [1, 2, 4, 5], [2, 4, 5, 6], [4, 6], [], [4, 6], [3, 4], [], [], [0, 7], [6, 9], [0, 1, 6, 10, 12, 16], [0, 1, 4, 6, 8, 9], [9, 10], [0, 3, 5, 8, 11, 14], [0, 3, 12, 15], [6, 10, 11, 13], [3, 5, 8, 11, 19, 21, 22, 26], [1, 4, 5, 7, 9, 15], [1, 6], [0, 1, 3, 4, 7, 9, 14, 15], [0, 2, 5, 8, 14, 16], [6, 8], [4, 5, 12, 14, 17, 18], [0, 2, 13, 14], [12, 13], [0, 1, 2, 5], [10, 11], [1, 2, 9, 10], [1, 2, 10, 13], [0, 5, 9, 12], [], [1, 8, 10, 11], [4, 5, 9, 12], [], [1, 2, 4, 8], [3, 4, 6, 9], [0, 4, 6, 7]]\n[[], [1, 5], [2, 3], [], [], [1, 2], [], [1, 4], [2, 4], [0, 3], [], [5, 6], [], [5, 6], [], [1, 3, 6, 7], [3, 5], [], [], [2, 4, 5, 7], [4, 6], [2, 6], [3, 4, 5, 6], [], [], [], [2, 4, 5, 6], [1, 2, 4, 5], [], [2, 6], [4, 7], [0, 1, 3, 4], [1, 4], [], [1, 3], [], [], [3, 4], [1, 4, 5, 6], [6, 7], [], [3, 5], [3, 5, 6, 8], [], [2, 3], [], [0, 3], [1, 5], [2, 3, 5, 6], [4, 6], [1, 4], [0, 4], [0, 3, 5, 6], [1, 4], [2, 5], [], [], [1, 6], [0, 1], [0, 2, 4, 6], [1, 4], [0, 1, 2, 4, 5, 6], [0, 6], [0, 2, 3, 5], [1, 2, 4, 5], [0, 3, 4, 6], [0, 4], [1, 2, 4, 5], [2, 4, 5, 6], [4, 6], [], [4, 6], [3, 4], [], [], [0, 7], [6, 9], [0, 1, 6, 10, 12, 16], [0, 1, 4, 6, 8, 9], [9, 10], [0, 3, 5, 8, 11, 14], [0, 3, 12, 15], [6, 10, 11, 13], [3, 5, 8, 11, 19, 21, 22, 26], [1, 4, 5, 7, 9, 15], [1, 6], [0, 1, 3, 4, 7, 9, 14, 15], [0, 2, 5, 8, 14, 16], [6, 8], [4, 5, 12, 14, 17, 18], [0, 2, 13, 14], [12, 13], [0, 1, 2, 5], [10, 11], [1, 2, 9, 10], [1, 2, 10, 13], [0, 5, 9, 12], [], [1, 8, 10, 11], [4, 5, 9, 12], [], [1, 2, 4, 8], [3, 4, 6, 9], [0, 4, 6, 7]]\n"
     ]
    }
   ],
   "source": [
    "for i in range(len(data)):\n",
    "    data[i] =  list(map(int, data[i]))\n",
    "\n",
    "print(data)\n",
    "\n",
    "l = [[]]\n",
    "l.extend(data)\n",
    "print(l)"
   ]
  },
  {
   "cell_type": "code",
   "execution_count": null,
   "metadata": {},
   "outputs": [],
   "source": [
    "open_file = open('C:/RoadCrossingAssistant/Data/labels_secondwise_modified.pkl', \"wb\")\n",
    "pickle.dump(l, open_file)\n",
    "open_file.close()\n",
    "\n",
    "open_file = open('C:/RoadCrossingAssistant/Data/labels_secondwise_modified.pkl', \"rb\")\n",
    "loaded_list = pickle.load(open_file)\n",
    "open_file.close()\n",
    "print(loaded_list)"
   ]
  },
  {
   "cell_type": "code",
   "execution_count": 2,
   "metadata": {},
   "outputs": [
    {
     "output_type": "stream",
     "name": "stdout",
     "text": [
      "[2, 3, 4, 5]\n[2, 3, 4, 5, 7]\n"
     ]
    }
   ],
   "source": [
    "l = [1,2,3,4,5]\n",
    "del l[0]\n",
    "print(l)\n",
    "l.append(7)\n",
    "print(l)"
   ]
  },
  {
   "cell_type": "code",
   "execution_count": 1,
   "metadata": {},
   "outputs": [
    {
     "output_type": "stream",
     "name": "stdout",
     "text": [
      "[[[[[0. 0. 0.]\n    [0. 0. 0.]\n    [0. 0. 0.]\n    [0. 0. 0.]]\n\n   [[0. 0. 0.]\n    [0. 0. 0.]\n    [0. 0. 0.]\n    [0. 0. 0.]]\n\n   [[0. 0. 0.]\n    [0. 0. 0.]\n    [0. 0. 0.]\n    [0. 0. 0.]]\n\n   [[0. 0. 0.]\n    [0. 0. 0.]\n    [0. 0. 0.]\n    [0. 0. 0.]]]\n\n\n  [[[0. 0. 0.]\n    [0. 0. 0.]\n    [0. 0. 0.]\n    [0. 0. 0.]]\n\n   [[0. 0. 0.]\n    [0. 0. 0.]\n    [0. 0. 0.]\n    [0. 0. 0.]]\n\n   [[0. 0. 0.]\n    [0. 0. 0.]\n    [0. 0. 0.]\n    [0. 0. 0.]]\n\n   [[0. 0. 0.]\n    [0. 0. 0.]\n    [0. 0. 0.]\n    [0. 0. 0.]]]]]\n"
     ]
    }
   ],
   "source": [
    "import numpy as np \n",
    "#np.zeros((3,) + (2,) + (2,2,2))\n",
    "\n",
    "#np.empty((self.batch_size, *self.dim, self.n_channels))\n",
    "x = np.empty((1, 2, *(4,4), 3))\n",
    "\n",
    "print(x)"
   ]
  },
  {
   "cell_type": "code",
   "execution_count": 9,
   "metadata": {},
   "outputs": [
    {
     "output_type": "execute_result",
     "data": {
      "text/plain": [
       "array([[[0., 0., 0.],\n",
       "        [0., 0., 0.],\n",
       "        [0., 0., 0.],\n",
       "        [0., 0., 0.]],\n",
       "\n",
       "       [[0., 0., 0.],\n",
       "        [0., 0., 0.],\n",
       "        [0., 0., 0.],\n",
       "        [0., 0., 0.]],\n",
       "\n",
       "       [[0., 0., 0.],\n",
       "        [0., 0., 0.],\n",
       "        [0., 0., 0.],\n",
       "        [0., 0., 0.]],\n",
       "\n",
       "       [[0., 0., 0.],\n",
       "        [0., 0., 0.],\n",
       "        [0., 0., 0.],\n",
       "        [0., 0., 0.]]])"
      ]
     },
     "metadata": {},
     "execution_count": 9
    }
   ],
   "source": [
    "a = np.zeros((4,4,3))\n",
    "\n"
   ]
  },
  {
   "cell_type": "code",
   "execution_count": 4,
   "metadata": {},
   "outputs": [
    {
     "output_type": "stream",
     "name": "stderr",
     "text": [
      "C:\\Anaconda\\envs\\roadcross\\lib\\site-packages\\tensorflow\\python\\framework\\dtypes.py:516: FutureWarning: Passing (type, 1) or '1type' as a synonym of type is deprecated; in a future version of numpy, it will be understood as (type, (1,)) / '(1,)type'.\n",
      "  _np_qint8 = np.dtype([(\"qint8\", np.int8, 1)])\n",
      "C:\\Anaconda\\envs\\roadcross\\lib\\site-packages\\tensorflow\\python\\framework\\dtypes.py:517: FutureWarning: Passing (type, 1) or '1type' as a synonym of type is deprecated; in a future version of numpy, it will be understood as (type, (1,)) / '(1,)type'.\n",
      "  _np_quint8 = np.dtype([(\"quint8\", np.uint8, 1)])\n",
      "C:\\Anaconda\\envs\\roadcross\\lib\\site-packages\\tensorflow\\python\\framework\\dtypes.py:518: FutureWarning: Passing (type, 1) or '1type' as a synonym of type is deprecated; in a future version of numpy, it will be understood as (type, (1,)) / '(1,)type'.\n",
      "  _np_qint16 = np.dtype([(\"qint16\", np.int16, 1)])\n",
      "C:\\Anaconda\\envs\\roadcross\\lib\\site-packages\\tensorflow\\python\\framework\\dtypes.py:519: FutureWarning: Passing (type, 1) or '1type' as a synonym of type is deprecated; in a future version of numpy, it will be understood as (type, (1,)) / '(1,)type'.\n",
      "  _np_quint16 = np.dtype([(\"quint16\", np.uint16, 1)])\n",
      "C:\\Anaconda\\envs\\roadcross\\lib\\site-packages\\tensorflow\\python\\framework\\dtypes.py:520: FutureWarning: Passing (type, 1) or '1type' as a synonym of type is deprecated; in a future version of numpy, it will be understood as (type, (1,)) / '(1,)type'.\n",
      "  _np_qint32 = np.dtype([(\"qint32\", np.int32, 1)])\n",
      "C:\\Anaconda\\envs\\roadcross\\lib\\site-packages\\tensorflow\\python\\framework\\dtypes.py:525: FutureWarning: Passing (type, 1) or '1type' as a synonym of type is deprecated; in a future version of numpy, it will be understood as (type, (1,)) / '(1,)type'.\n",
      "  np_resource = np.dtype([(\"resource\", np.ubyte, 1)])\n",
      "C:\\Anaconda\\envs\\roadcross\\lib\\site-packages\\tensorboard\\compat\\tensorflow_stub\\dtypes.py:541: FutureWarning: Passing (type, 1) or '1type' as a synonym of type is deprecated; in a future version of numpy, it will be understood as (type, (1,)) / '(1,)type'.\n",
      "  _np_qint8 = np.dtype([(\"qint8\", np.int8, 1)])\n",
      "C:\\Anaconda\\envs\\roadcross\\lib\\site-packages\\tensorboard\\compat\\tensorflow_stub\\dtypes.py:542: FutureWarning: Passing (type, 1) or '1type' as a synonym of type is deprecated; in a future version of numpy, it will be understood as (type, (1,)) / '(1,)type'.\n",
      "  _np_quint8 = np.dtype([(\"quint8\", np.uint8, 1)])\n",
      "C:\\Anaconda\\envs\\roadcross\\lib\\site-packages\\tensorboard\\compat\\tensorflow_stub\\dtypes.py:543: FutureWarning: Passing (type, 1) or '1type' as a synonym of type is deprecated; in a future version of numpy, it will be understood as (type, (1,)) / '(1,)type'.\n",
      "  _np_qint16 = np.dtype([(\"qint16\", np.int16, 1)])\n",
      "C:\\Anaconda\\envs\\roadcross\\lib\\site-packages\\tensorboard\\compat\\tensorflow_stub\\dtypes.py:544: FutureWarning: Passing (type, 1) or '1type' as a synonym of type is deprecated; in a future version of numpy, it will be understood as (type, (1,)) / '(1,)type'.\n",
      "  _np_quint16 = np.dtype([(\"quint16\", np.uint16, 1)])\n",
      "C:\\Anaconda\\envs\\roadcross\\lib\\site-packages\\tensorboard\\compat\\tensorflow_stub\\dtypes.py:545: FutureWarning: Passing (type, 1) or '1type' as a synonym of type is deprecated; in a future version of numpy, it will be understood as (type, (1,)) / '(1,)type'.\n",
      "  _np_qint32 = np.dtype([(\"qint32\", np.int32, 1)])\n",
      "C:\\Anaconda\\envs\\roadcross\\lib\\site-packages\\tensorboard\\compat\\tensorflow_stub\\dtypes.py:550: FutureWarning: Passing (type, 1) or '1type' as a synonym of type is deprecated; in a future version of numpy, it will be understood as (type, (1,)) / '(1,)type'.\n",
      "  np_resource = np.dtype([(\"resource\", np.ubyte, 1)])\n"
     ]
    }
   ],
   "source": [
    "import tensorflow as tf"
   ]
  },
  {
   "cell_type": "code",
   "execution_count": 8,
   "metadata": {},
   "outputs": [
    {
     "output_type": "stream",
     "name": "stdout",
     "text": [
      "<DatasetV1Adapter shapes: ((2,), (1,)), types: (tf.int32, tf.int32)>\n"
     ]
    }
   ],
   "source": [
    "x = np.arange(10).reshape((5,2))\n",
    "y = np.array([0,1,1,0,0]).reshape((5,1))\n",
    "\n",
    "dataset = tf.data.Dataset.from_tensor_slices((x,y))\n",
    "\n",
    "print(dataset)"
   ]
  },
  {
   "cell_type": "code",
   "execution_count": 7,
   "metadata": {},
   "outputs": [
    {
     "output_type": "stream",
     "name": "stdout",
     "text": [
      "(1, 270, 480, 3)\n"
     ]
    }
   ],
   "source": [
    "import cv2\n",
    "import tensorflow as tf\n",
    "import numpy as np\n",
    "\n",
    "frame = cv2.imread(\"C:/RoadCrossingAssistant/Data/Frames/video33/frame60.jpg\")\n",
    "test_frame = cv2.resize(frame, (480, 270))\n",
    "test_inp = np.array([test_frame])\n",
    "print(test_inp.shape)\n"
   ]
  },
  {
   "cell_type": "code",
   "execution_count": 8,
   "metadata": {},
   "outputs": [
    {
     "output_type": "stream",
     "name": "stdout",
     "text": [
      "0.9999865\n"
     ]
    }
   ],
   "source": [
    "model = tf.keras.models.load_model(\"C:/Users/Siddhi/Desktop/GCET/Project/savedmodels/training_temp\")\n",
    "output = model.predict(test_inp)\n",
    "\n",
    "print(output[0][0])"
   ]
  },
  {
   "cell_type": "code",
   "execution_count": 1,
   "metadata": {},
   "outputs": [
    {
     "output_type": "stream",
     "name": "stdout",
     "text": [
      "showing predictions for video1 with total frames 10 \n"
     ]
    }
   ],
   "source": [
    " v = \"video1\"\n",
    " frames = 10\n",
    " print(\"showing predictions for {} with total frames {} \".format(v,frames))"
   ]
  },
  {
   "cell_type": "code",
   "execution_count": 4,
   "metadata": {},
   "outputs": [
    {
     "output_type": "stream",
     "name": "stdout",
     "text": [
      "0\n1\n1\n2\n3\n3\n4\n5\n5\n6\n7\n7\n8\n9\n9\n10\n11\n11\n12\n13\n13\n14\n15\n15\n16\n17\n17\n18\n19\n19\n20\n21\n21\n22\n23\n23\n24\n"
     ]
    }
   ],
   "source": [
    "x = True\n",
    "\n",
    "for i in range(25):\n",
    "\n",
    "    if x == True:\n",
    "\n",
    "        print(i)\n",
    "\n",
    "        if(i % 2 == 0):\n",
    "\n",
    "            continue\n",
    "\n",
    "        print(i)"
   ]
  },
  {
   "cell_type": "code",
   "execution_count": 1,
   "metadata": {},
   "outputs": [
    {
     "output_type": "stream",
     "name": "stderr",
     "text": [
      "C:\\Anaconda\\envs\\roadcross\\lib\\site-packages\\tensorflow\\python\\framework\\dtypes.py:516: FutureWarning: Passing (type, 1) or '1type' as a synonym of type is deprecated; in a future version of numpy, it will be understood as (type, (1,)) / '(1,)type'.\n",
      "  _np_qint8 = np.dtype([(\"qint8\", np.int8, 1)])\n",
      "C:\\Anaconda\\envs\\roadcross\\lib\\site-packages\\tensorflow\\python\\framework\\dtypes.py:517: FutureWarning: Passing (type, 1) or '1type' as a synonym of type is deprecated; in a future version of numpy, it will be understood as (type, (1,)) / '(1,)type'.\n",
      "  _np_quint8 = np.dtype([(\"quint8\", np.uint8, 1)])\n",
      "C:\\Anaconda\\envs\\roadcross\\lib\\site-packages\\tensorflow\\python\\framework\\dtypes.py:518: FutureWarning: Passing (type, 1) or '1type' as a synonym of type is deprecated; in a future version of numpy, it will be understood as (type, (1,)) / '(1,)type'.\n",
      "  _np_qint16 = np.dtype([(\"qint16\", np.int16, 1)])\n",
      "C:\\Anaconda\\envs\\roadcross\\lib\\site-packages\\tensorflow\\python\\framework\\dtypes.py:519: FutureWarning: Passing (type, 1) or '1type' as a synonym of type is deprecated; in a future version of numpy, it will be understood as (type, (1,)) / '(1,)type'.\n",
      "  _np_quint16 = np.dtype([(\"quint16\", np.uint16, 1)])\n",
      "C:\\Anaconda\\envs\\roadcross\\lib\\site-packages\\tensorflow\\python\\framework\\dtypes.py:520: FutureWarning: Passing (type, 1) or '1type' as a synonym of type is deprecated; in a future version of numpy, it will be understood as (type, (1,)) / '(1,)type'.\n",
      "  _np_qint32 = np.dtype([(\"qint32\", np.int32, 1)])\n",
      "C:\\Anaconda\\envs\\roadcross\\lib\\site-packages\\tensorflow\\python\\framework\\dtypes.py:525: FutureWarning: Passing (type, 1) or '1type' as a synonym of type is deprecated; in a future version of numpy, it will be understood as (type, (1,)) / '(1,)type'.\n",
      "  np_resource = np.dtype([(\"resource\", np.ubyte, 1)])\n",
      "C:\\Anaconda\\envs\\roadcross\\lib\\site-packages\\tensorboard\\compat\\tensorflow_stub\\dtypes.py:541: FutureWarning: Passing (type, 1) or '1type' as a synonym of type is deprecated; in a future version of numpy, it will be understood as (type, (1,)) / '(1,)type'.\n",
      "  _np_qint8 = np.dtype([(\"qint8\", np.int8, 1)])\n",
      "C:\\Anaconda\\envs\\roadcross\\lib\\site-packages\\tensorboard\\compat\\tensorflow_stub\\dtypes.py:542: FutureWarning: Passing (type, 1) or '1type' as a synonym of type is deprecated; in a future version of numpy, it will be understood as (type, (1,)) / '(1,)type'.\n",
      "  _np_quint8 = np.dtype([(\"quint8\", np.uint8, 1)])\n",
      "C:\\Anaconda\\envs\\roadcross\\lib\\site-packages\\tensorboard\\compat\\tensorflow_stub\\dtypes.py:543: FutureWarning: Passing (type, 1) or '1type' as a synonym of type is deprecated; in a future version of numpy, it will be understood as (type, (1,)) / '(1,)type'.\n",
      "  _np_qint16 = np.dtype([(\"qint16\", np.int16, 1)])\n",
      "C:\\Anaconda\\envs\\roadcross\\lib\\site-packages\\tensorboard\\compat\\tensorflow_stub\\dtypes.py:544: FutureWarning: Passing (type, 1) or '1type' as a synonym of type is deprecated; in a future version of numpy, it will be understood as (type, (1,)) / '(1,)type'.\n",
      "  _np_quint16 = np.dtype([(\"quint16\", np.uint16, 1)])\n",
      "C:\\Anaconda\\envs\\roadcross\\lib\\site-packages\\tensorboard\\compat\\tensorflow_stub\\dtypes.py:545: FutureWarning: Passing (type, 1) or '1type' as a synonym of type is deprecated; in a future version of numpy, it will be understood as (type, (1,)) / '(1,)type'.\n",
      "  _np_qint32 = np.dtype([(\"qint32\", np.int32, 1)])\n",
      "C:\\Anaconda\\envs\\roadcross\\lib\\site-packages\\tensorboard\\compat\\tensorflow_stub\\dtypes.py:550: FutureWarning: Passing (type, 1) or '1type' as a synonym of type is deprecated; in a future version of numpy, it will be understood as (type, (1,)) / '(1,)type'.\n",
      "  np_resource = np.dtype([(\"resource\", np.ubyte, 1)])\n"
     ]
    },
    {
     "output_type": "error",
     "ename": "ImportError",
     "evalue": "Could not import PIL.Image. The use of `load_img` requires PIL.",
     "traceback": [
      "\u001b[1;31m---------------------------------------------------------------------------\u001b[0m",
      "\u001b[1;31mImportError\u001b[0m                               Traceback (most recent call last)",
      "\u001b[1;32m<ipython-input-1-9bbb627df902>\u001b[0m in \u001b[0;36m<module>\u001b[1;34m()\u001b[0m\n\u001b[0;32m      4\u001b[0m \u001b[1;32mfrom\u001b[0m \u001b[0mtensorflow\u001b[0m\u001b[1;33m.\u001b[0m\u001b[0mkeras\u001b[0m\u001b[1;33m.\u001b[0m\u001b[0mpreprocessing\u001b[0m \u001b[1;32mimport\u001b[0m \u001b[0mimage\u001b[0m\u001b[1;33m\u001b[0m\u001b[1;33m\u001b[0m\u001b[0m\n\u001b[0;32m      5\u001b[0m \u001b[1;33m\u001b[0m\u001b[0m\n\u001b[1;32m----> 6\u001b[1;33m \u001b[0mimg\u001b[0m \u001b[1;33m=\u001b[0m \u001b[0mimage\u001b[0m\u001b[1;33m.\u001b[0m\u001b[0mload_img\u001b[0m\u001b[1;33m(\u001b[0m\u001b[1;34m\"C:/RoadCrossingAssistant/Data/Frames/video1/frame0.jpg\"\u001b[0m\u001b[1;33m,\u001b[0m \u001b[0mtarget_size\u001b[0m\u001b[1;33m=\u001b[0m\u001b[1;33m(\u001b[0m\u001b[1;36m270\u001b[0m\u001b[1;33m,\u001b[0m \u001b[1;36m480\u001b[0m\u001b[1;33m)\u001b[0m\u001b[1;33m)\u001b[0m\u001b[1;33m\u001b[0m\u001b[1;33m\u001b[0m\u001b[0m\n\u001b[0m\u001b[0;32m      7\u001b[0m \u001b[1;33m\u001b[0m\u001b[0m\n\u001b[0;32m      8\u001b[0m \u001b[1;32mdef\u001b[0m \u001b[0mbatch_input\u001b[0m\u001b[1;33m(\u001b[0m\u001b[0mbatch_size\u001b[0m \u001b[1;33m=\u001b[0m \u001b[1;36m1\u001b[0m\u001b[1;33m)\u001b[0m\u001b[1;33m:\u001b[0m\u001b[1;33m\u001b[0m\u001b[1;33m\u001b[0m\u001b[0m\n",
      "\u001b[1;32mC:\\Anaconda\\envs\\roadcross\\lib\\site-packages\\keras_preprocessing\\image\\utils.py\u001b[0m in \u001b[0;36mload_img\u001b[1;34m(path, grayscale, color_mode, target_size, interpolation)\u001b[0m\n\u001b[0;32m    109\u001b[0m         \u001b[0mcolor_mode\u001b[0m \u001b[1;33m=\u001b[0m \u001b[1;34m'grayscale'\u001b[0m\u001b[1;33m\u001b[0m\u001b[1;33m\u001b[0m\u001b[0m\n\u001b[0;32m    110\u001b[0m     \u001b[1;32mif\u001b[0m \u001b[0mpil_image\u001b[0m \u001b[1;32mis\u001b[0m \u001b[1;32mNone\u001b[0m\u001b[1;33m:\u001b[0m\u001b[1;33m\u001b[0m\u001b[1;33m\u001b[0m\u001b[0m\n\u001b[1;32m--> 111\u001b[1;33m         raise ImportError('Could not import PIL.Image. '\n\u001b[0m\u001b[0;32m    112\u001b[0m                           'The use of `load_img` requires PIL.')\n\u001b[0;32m    113\u001b[0m     \u001b[1;32mwith\u001b[0m \u001b[0mopen\u001b[0m\u001b[1;33m(\u001b[0m\u001b[0mpath\u001b[0m\u001b[1;33m,\u001b[0m \u001b[1;34m'rb'\u001b[0m\u001b[1;33m)\u001b[0m \u001b[1;32mas\u001b[0m \u001b[0mf\u001b[0m\u001b[1;33m:\u001b[0m\u001b[1;33m\u001b[0m\u001b[1;33m\u001b[0m\u001b[0m\n",
      "\u001b[1;31mImportError\u001b[0m: Could not import PIL.Image. The use of `load_img` requires PIL."
     ]
    }
   ],
   "source": [
    "import numpy as np\n",
    "import tensorflow as tf\n",
    "import cv2\n",
    "from tensorflow.keras.preprocessing import image\n",
    "\n",
    "img = image.load_img(\"C:/RoadCrossingAssistant/Data/Frames/video1/frame0.jpg\", target_size=(270, 480))\n",
    "\n",
    "def batch_input(batch_size = 1):\n",
    "    batched_input = np.zeros((batch_size, 270, 480, 3), dtype=np.float32)\n",
    "  \n",
    "    x = image.img_to_array(img)\n",
    "    x = np.expand_dims(x, axis = 0)\n",
    "    #x = preprocess_input(x)\n",
    "    batched_input[0, :] = x\n",
    "\n",
    "    batched_input = tf.constant(batched_input)\n",
    "    return batched_input\n",
    "\n",
    "batched_input = batch_input(batch_size=1)\n",
    "print(\"batched_input.shape:\", batched_input.shape)"
   ]
  }
 ]
}